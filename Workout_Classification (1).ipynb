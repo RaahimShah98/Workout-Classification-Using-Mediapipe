{
  "nbformat": 4,
  "nbformat_minor": 0,
  "metadata": {
    "colab": {
      "provenance": []
    },
    "kernelspec": {
      "name": "python3",
      "display_name": "Python 3"
    },
    "language_info": {
      "name": "python"
    }
  },
  "cells": [
    {
      "cell_type": "markdown",
      "source": [
        "## Feature Extraction\n",
        "#### 1)Import video file paths\n",
        "#### 2) Rename video files to their base paths names\n",
        "#### 3) Import ranamed video Files\n",
        "#### 4) Extract Features from videos"
      ],
      "metadata": {
        "id": "bsnCNtY5Lrpl"
      }
    },
    {
      "cell_type": "markdown",
      "source": [
        "## Renaming our Video files\n",
        "###### 1) Importing video file Paths\n",
        "###### 2) Renaming video files"
      ],
      "metadata": {
        "id": "tSiYfT1_MeMS"
      }
    },
    {
      "cell_type": "code",
      "execution_count": null,
      "metadata": {
        "id": "HpDiQJSPLgp4"
      },
      "outputs": [],
      "source": [
        "import os\n",
        "\n",
        "def rename_files():\n",
        "\n",
        "  main_dir = \"Your Local disk File path\"\n",
        "  directories = os.listdir(main_dir)\n",
        "\n",
        "  for directory in directories:\n",
        "    i = 1;\n",
        "\n",
        "    videos = os.listdir(f\"{main_dir}/{directory}\")\n",
        "    for video in videos:\n",
        "      video_initial_name = f\"{main_dir}/{directory}/{video}\"\n",
        "\n",
        "      video_change_name = f\"{main_dir}/{directory}/{directory}_{i}.mp4\"\n",
        "      os.rename(video_initial_name , video_change_name)\n",
        "      print(f\"File renamed from {video_initial_name} to {video_change_name}\")\n",
        "      i += 1;"
      ]
    },
    {
      "cell_type": "code",
      "source": [
        "rename_files()\n"
      ],
      "metadata": {
        "id": "zfciBTl8MIDl"
      },
      "execution_count": null,
      "outputs": []
    },
    {
      "cell_type": "markdown",
      "source": [
        "## Extracting Features From Videos"
      ],
      "metadata": {
        "id": "ZHk4A5POMr8F"
      }
    },
    {
      "cell_type": "code",
      "source": [
        "!pip install mediapipe"
      ],
      "metadata": {
        "id": "s5DcoOHWM53s"
      },
      "execution_count": null,
      "outputs": []
    },
    {
      "cell_type": "code",
      "source": [
        "import mediapipe as mp\n",
        "import cv2\n",
        "import numpy as np\n",
        "import math\n",
        "import pandas as pd\n",
        "from matplotlib import pyplot as plt\n",
        "\n",
        "from sklearn.preprocessing import MinMaxScaler\n",
        "from tensorflow.keras.models import load_model\n",
        "import os\n",
        "\n",
        "mp_drawing = mp.solutions.drawing_utils\n",
        "mp_pose = mp.solutions.pose\n"
      ],
      "metadata": {
        "id": "gGGVS9p3Mt5F"
      },
      "execution_count": null,
      "outputs": []
    },
    {
      "cell_type": "markdown",
      "source": [
        "## Functions to calculate Angles and Distances"
      ],
      "metadata": {
        "id": "-15nAm9UM-kt"
      }
    },
    {
      "cell_type": "code",
      "source": [
        "def calculate_distance(point1, point2):\n",
        "    return math.sqrt(\n",
        "        (point2.x - point1.x) ** 2\n",
        "        + (point2.y - point1.y) ** 2\n",
        "        + (point2.z - point1.z) ** 2\n",
        "    )\n",
        "\n",
        "\n",
        "def calculate_angle(a, b, c):\n",
        "    a = np.array(a)  # First\n",
        "    b = np.array(b)  # Mid\n",
        "    c = np.array(c)  # End\n",
        "\n",
        "    radians = np.arctan2(c[1] - b[1], c[0] - b[0]) - np.arctan2( a[1] - b[1], a[0] - b[0] )\n",
        "\n",
        "    angle = np.abs(radians * 180.0 / np.pi)\n",
        "\n",
        "    return angle\n"
      ],
      "metadata": {
        "id": "kekExjb7M81N"
      },
      "execution_count": null,
      "outputs": []
    },
    {
      "cell_type": "markdown",
      "source": [
        "## Function to Return Features from each video Frame"
      ],
      "metadata": {
        "id": "Pd4JHubkNEME"
      }
    },
    {
      "cell_type": "code",
      "source": [
        " def get_features(landmarks):\n",
        "            ## left body parts values\n",
        "\n",
        "            left_shoulder = landmarks[mp_pose.PoseLandmark.LEFT_SHOULDER.value]\n",
        "            left_elbow = landmarks[mp_pose.PoseLandmark.LEFT_ELBOW.value]\n",
        "            left_wrist = landmarks[mp_pose.PoseLandmark.LEFT_WRIST.value]\n",
        "            left_hip = landmarks[mp_pose.PoseLandmark.LEFT_HIP.value]\n",
        "            left_knee = landmarks[mp_pose.PoseLandmark.LEFT_KNEE.value]\n",
        "            left_ankle = landmarks[mp_pose.PoseLandmark.LEFT_ANKLE.value]\n",
        "            left_toe = landmarks[mp_pose.PoseLandmark.LEFT_FOOT_INDEX.value]\n",
        "\n",
        "\n",
        "            ## Right body part values\n",
        "            right_shoulder = landmarks[mp_pose.PoseLandmark.RIGHT_SHOULDER.value]\n",
        "            right_elbow = landmarks[mp_pose.PoseLandmark.RIGHT_ELBOW.value]\n",
        "            right_wrist = landmarks[mp_pose.PoseLandmark.RIGHT_WRIST.value]\n",
        "            right_hip = landmarks[mp_pose.PoseLandmark.RIGHT_HIP.value]\n",
        "            right_knee = landmarks[mp_pose.PoseLandmark.RIGHT_KNEE.value]\n",
        "            right_ankle = landmarks[mp_pose.PoseLandmark.RIGHT_ANKLE.value]\n",
        "            right_toe = landmarks[mp_pose.PoseLandmark.RIGHT_FOOT_INDEX.value]\n",
        "\n",
        "\n",
        "\n",
        "            ## COORDS of left body parts\n",
        "            left_shoulder_coords = [left_shoulder.x, left_shoulder.y, left_shoulder.z]\n",
        "            left_elbow_coords = [left_elbow.x, left_elbow.y, left_elbow.z]\n",
        "            left_wrist_coords = [left_wrist.x, left_wrist.y, left_wrist.z]\n",
        "            left_hip_coords = [left_hip.x, left_hip.y, left_hip.z]\n",
        "            left_knee_coords = [left_knee.x, left_knee.y, left_knee.z]\n",
        "            left_ankle_coords = [left_ankle.x , left_ankle.y , left_ankle.z]\n",
        "\n",
        "            ## COORDS OF Right Body Parts\n",
        "            right_shoulder_coords = [ right_shoulder.x , right_shoulder.y , right_shoulder.z ]\n",
        "            right_elbow_coords = [right_elbow.x, right_elbow.y, right_elbow.z]\n",
        "            right_wrist_coords = [right_wrist.x, right_wrist.y, right_wrist.z]\n",
        "            right_hip_coords = [right_hip.x, right_hip.y, right_hip.z]\n",
        "            right_knee_coords = [right_knee.x , right_knee.y, right_knee.z]\n",
        "            right_ankle_coords = [right_ankle.x , right_ankle.y , right_ankle.z]\n",
        "\n",
        "            ## CALCULATING DISTANCES\n",
        "            left_hip_sh_dist = calculate_distance(left_hip, left_shoulder)\n",
        "            right_hip_sh_dist = calculate_distance(right_hip, right_shoulder)\n",
        "\n",
        "            left_wrist_sh_dist = calculate_distance(left_wrist, left_shoulder)\n",
        "            right_wrist_sh_dist = calculate_distance(right_wrist, right_shoulder)\n",
        "\n",
        "            left_ch_elbow_dist = calculate_distance(left_shoulder, left_elbow)\n",
        "            right_ch_elbow_dist = calculate_distance(right_shoulder, right_elbow)\n",
        "\n",
        "            left_wrist_hip_dist = calculate_distance(left_hip, left_wrist)\n",
        "            right_wrist_hip_dist = calculate_distance(right_hip, right_wrist)\n",
        "\n",
        "            left_elbow_wrist_dist = calculate_distance(left_elbow, left_wrist)\n",
        "            right_elbow_wrist_dist = calculate_distance(right_elbow, right_wrist)\n",
        "\n",
        "            left_vert_dist_sh_hip = left_shoulder.y - left_hip.y\n",
        "            right_vert_dist_sh_hip = right_shoulder.y - right_hip.y\n",
        "\n",
        "            left_horiz_dist_sh_hip = left_shoulder.x - left_hip.x\n",
        "            right_horiz_dist_sh_hip = right_shoulder.x - right_hip.x\n",
        "\n",
        "            left_wrist_height = left_shoulder.y - left_wrist.y\n",
        "            right_wrist_height = right_shoulder.y - right_wrist.y\n",
        "\n",
        "\n",
        "            ## CALCULATING ANGLES\n",
        "            left_elbow_angle = calculate_angle(\n",
        "                left_shoulder_coords, left_elbow_coords, left_wrist_coords\n",
        "            )\n",
        "            right_elbow_angle = calculate_angle(\n",
        "                right_shoulder_coords, right_elbow_coords, right_wrist_coords\n",
        "            )\n",
        "\n",
        "            left_hip_angle = calculate_angle(\n",
        "                left_shoulder_coords, left_hip_coords, left_knee_coords\n",
        "            )\n",
        "            right_hip_angle = calculate_angle(\n",
        "                right_shoulder_coords, right_hip_coords, right_knee_coords\n",
        "            )\n",
        "            left_shoulder_flexion_extension_angle = calculate_angle(\n",
        "                left_hip_coords, left_shoulder_coords, left_elbow_coords\n",
        "            )\n",
        "            right_shoulder_flexion_extension_angle = calculate_angle(\n",
        "                right_hip_coords, right_shoulder_coords, right_elbow_coords\n",
        "            )\n",
        "\n",
        "            # Shoulder Abduction/Adduction\n",
        "            left_shoulder_abduction_adduction_angle = calculate_angle(\n",
        "                left_shoulder_coords, left_hip_coords, left_knee_coords\n",
        "            )\n",
        "            right_shoulder_abduction_adduction_angle = calculate_angle(\n",
        "                right_shoulder_coords, right_hip_coords, right_knee_coords\n",
        "            )\n",
        "\n",
        "            # Body Tilt Angle (Tilt of the body relative to vertical axis)\n",
        "            left_body_tilt_angle = calculate_angle(\n",
        "                [left_shoulder.x, left_shoulder.y], [left_hip.x, left_hip.y], [0, 1]\n",
        "            )\n",
        "            right_body_tilt_angle = calculate_angle(\n",
        "                [right_shoulder.x, right_shoulder.y], [right_hip.x, right_hip.y], [0, 1]\n",
        "            )\n",
        "\n",
        "            ## Ankle to Shoulder angle\n",
        "            left_ankle_shoulder_angle = calculate_angle(\n",
        "                left_shoulder_coords, left_hip_coords, left_ankle_coords\n",
        "            )\n",
        "            right_ankle_shoulder_angle = calculate_angle(\n",
        "                right_shoulder_coords, right_hip_coords, right_ankle_coords\n",
        "            )\n",
        "\n",
        "            ## Ankle Shoulder Distance\n",
        "            left_ankle_shoulder_distance = calculate_distance(\n",
        "                left_ankle , left_shoulder\n",
        "            )\n",
        "            right_ankle_shoulder_distance = calculate_distance(\n",
        "                right_ankle , right_shoulder\n",
        "            )\n",
        "\n",
        "            ## Ankle knee angle\n",
        "            left_ankle_knee_angle = calculate_angle(\n",
        "                left_knee_coords, left_hip_coords, left_ankle_coords\n",
        "            )\n",
        "            right_ankle_knee_angle = calculate_angle(\n",
        "                right_knee_coords, right_hip_coords, right_ankle_coords\n",
        "            )\n",
        "\n",
        "            ## Elbow flexion angle\n",
        "            left_elbow_flexion_angle = calculate_angle(left_shoulder_coords , left_wrist_coords , left_elbow_coords)\n",
        "            right_elbow_flexion_angle = calculate_angle(right_shoulder_coords , right_wrist_coords , right_elbow_coords)\n",
        "\n",
        "            # Knee flexion angle\n",
        "            left_knee_flexion = calculate_angle(left_hip_coords , left_knee_coords , left_ankle_coords)\n",
        "            right_knee_flexion = calculate_angle(right_hip_coords , right_knee_coords , right_ankle_coords)\n",
        "\n",
        "            # Shoulder to knee distance\n",
        "            left_shoulder_knee_distance = calculate_distance(left_shoulder , left_knee)\n",
        "            right_shoulder_knee_distance = calculate_distance(right_shoulder , right_knee)\n",
        "\n",
        "            # Hip to ankle distance\n",
        "            left_hip_ankle_distance = calculate_distance(left_hip , left_ankle)\n",
        "            right_hip_ankle_distance = calculate_distance(right_hip , right_ankle)\n",
        "\n",
        "            # ankle dorsiflexion angle\n",
        "            left_ankle_dorsiflexion_angle = calculate_angle( left_knee_coords , left_ankle_coords , left_toe)\n",
        "            right_ankle_dorsiflexion_angle = calculate_angle( right_knee_coords , right_ankle_coords , right_toe )\n",
        "\n",
        "\n",
        "            return (\n",
        "                right_ankle_dorsiflexion_angle,\n",
        "                left_ankle_dorsiflexion_angle,\n",
        "                left_shoulder_knee_distance,\n",
        "                right_shoulder_knee_distance,\n",
        "                left_hip_ankle_distance,\n",
        "                right_hip_ankle_distance,\n",
        "                right_elbow_flexion_angle,\n",
        "                left_elbow_flexion_angle,\n",
        "                left_ankle_knee_angle,\n",
        "                right_ankle_shoulder_distance,\n",
        "                right_ankle_knee_angle,\n",
        "                left_ankle_shoulder_distance,\n",
        "                right_ankle_shoulder_angle,\n",
        "                left_ankle_shoulder_angle,\n",
        "                left_elbow_angle,\n",
        "                right_elbow_angle,\n",
        "                left_hip_angle,\n",
        "                right_hip_angle,\n",
        "                left_shoulder_flexion_extension_angle,\n",
        "                right_shoulder_flexion_extension_angle,\n",
        "                left_shoulder_abduction_adduction_angle,\n",
        "                right_shoulder_abduction_adduction_angle,\n",
        "                left_body_tilt_angle,\n",
        "                right_body_tilt_angle,\n",
        "                left_hip_sh_dist,\n",
        "                right_hip_sh_dist,\n",
        "                left_wrist_sh_dist,\n",
        "                right_wrist_sh_dist,\n",
        "                left_ch_elbow_dist,\n",
        "                right_ch_elbow_dist,\n",
        "                left_wrist_hip_dist,\n",
        "                right_wrist_hip_dist,\n",
        "                left_elbow_wrist_dist,\n",
        "                right_elbow_wrist_dist,\n",
        "                left_vert_dist_sh_hip,\n",
        "                right_vert_dist_sh_hip,\n",
        "                left_horiz_dist_sh_hip,\n",
        "                right_horiz_dist_sh_hip,\n",
        "                left_wrist_height,\n",
        "                right_wrist_height,\n",
        "            )"
      ],
      "metadata": {
        "id": "yCrnHb1oNH7G"
      },
      "execution_count": null,
      "outputs": []
    },
    {
      "cell_type": "markdown",
      "source": [
        "## Function to Read Video file and extract feature from each video"
      ],
      "metadata": {
        "id": "2L2D5xk-NM87"
      }
    },
    {
      "cell_type": "code",
      "source": [
        "def get_features_from_video(main_directory_path , excercise_name):\n",
        "\n",
        "  directory = f\"{main_directory_path}/{excercise_name}\"\n",
        "  video_paths = os.listdir(directory)\n",
        "\n",
        "  extracted_feature_dir = f\"/content/drive/MyDrive/New Extracted Features/{excercise_name}\"\n",
        "\n",
        "  if not os.path.exists(extracted_feature_dir):\n",
        "    print(f\"Creating Directory: {extracted_feature_dir}\")\n",
        "    os.makedirs(extracted_feature_dir)\n",
        "\n",
        "\n",
        "  for video_path in video_paths:\n",
        "    video_full_path = f\"{directory}/{video_path}\"\n",
        "    print(video_full_path)\n",
        "    cap = cv2.VideoCapture(video_full_path)\n",
        "    base_name = os.path.basename(video_path)\n",
        "    split_base_name = base_name.split('.')[0]\n",
        "    print(f\"Etracting Features for: {split_base_name}\")\n",
        "\n",
        "\n",
        "    features_list = []\n",
        "    frame_number = 0\n",
        "\n",
        "    with mp_pose.Pose(min_detection_confidence=0.5, min_tracking_confidence=0.5) as pose:\n",
        "      while cap.isOpened():\n",
        "        ret, frame = cap.read()\n",
        "        if not ret:\n",
        "            print('leaving')\n",
        "            break\n",
        "\n",
        "\n",
        "        # Recolor image to RGB\n",
        "        image = cv2.cvtColor(frame, cv2.COLOR_BGR2RGB)\n",
        "        image.flags.writeable = False\n",
        "\n",
        "        # Make detection\n",
        "        results = pose.process(image)\n",
        "\n",
        "        # Recolor back to BGR\n",
        "        image.flags.writeable = True\n",
        "        image = cv2.cvtColor(image, cv2.COLOR_RGB2BGR)\n",
        "        # print(results)\n",
        "        if results.pose_landmarks:\n",
        "            landmarks = results.pose_landmarks.landmark\n",
        "            (\n",
        "                right_ankle_dorsiflexion_angle,\n",
        "                left_ankle_dorsiflexion_angle,\n",
        "                left_shoulder_knee_distance,\n",
        "                right_shoulder_knee_distance,\n",
        "                left_hip_ankle_distance,\n",
        "                right_hip_ankle_distance,\n",
        "                right_elbow_flexion_angle,\n",
        "                left_elbow_flexion_angle,\n",
        "                left_ankle_knee_angle,\n",
        "                right_ankle_shoulder_distance,\n",
        "                right_ankle_knee_angle,\n",
        "                left_ankle_shoulder_distance,\n",
        "                right_ankle_shoulder_angle,\n",
        "                left_ankle_shoulder_angle,\n",
        "                left_elbow_angle,\n",
        "                right_elbow_angle,\n",
        "                left_hip_angle,\n",
        "                right_hip_angle,\n",
        "                left_shoulder_flexion_extension_angle,\n",
        "                right_shoulder_flexion_extension_angle,\n",
        "                left_shoulder_abduction_adduction_angle,\n",
        "                right_shoulder_abduction_adduction_angle,\n",
        "                left_body_tilt_angle,\n",
        "                right_body_tilt_angle,\n",
        "                left_hip_sh_dist,\n",
        "                right_hip_sh_dist,\n",
        "                left_wrist_sh_dist,\n",
        "                right_wrist_sh_dist,\n",
        "                left_ch_elbow_dist,\n",
        "                right_ch_elbow_dist,\n",
        "                left_wrist_hip_dist,\n",
        "                right_wrist_hip_dist,\n",
        "                left_elbow_wrist_dist,\n",
        "                right_elbow_wrist_dist,\n",
        "                left_vert_dist_sh_hip,\n",
        "                right_vert_dist_sh_hip,\n",
        "                left_horiz_dist_sh_hip,\n",
        "                right_horiz_dist_sh_hip,\n",
        "                left_wrist_height,\n",
        "                right_wrist_height,\n",
        "            ) = get_features(landmarks)\n",
        "\n",
        "            features_list.append(\n",
        "                [\n",
        "                right_ankle_dorsiflexion_angle,\n",
        "                left_ankle_dorsiflexion_angle,\n",
        "                left_shoulder_knee_distance,\n",
        "                right_shoulder_knee_distance,\n",
        "                left_hip_ankle_distance,\n",
        "                right_hip_ankle_distance,\n",
        "                right_elbow_flexion_angle,\n",
        "                left_elbow_flexion_angle,\n",
        "                left_ankle_knee_angle,\n",
        "                right_ankle_shoulder_distance,\n",
        "                right_ankle_knee_angle,\n",
        "                left_ankle_shoulder_distance,\n",
        "                right_ankle_shoulder_angle,\n",
        "                left_ankle_shoulder_angle,\n",
        "                left_elbow_angle,\n",
        "                right_elbow_angle,\n",
        "                left_hip_angle,\n",
        "                right_hip_angle,\n",
        "                left_shoulder_flexion_extension_angle,\n",
        "                right_shoulder_flexion_extension_angle,\n",
        "                left_shoulder_abduction_adduction_angle,\n",
        "                right_shoulder_abduction_adduction_angle,\n",
        "                left_body_tilt_angle,\n",
        "                right_body_tilt_angle,\n",
        "                left_hip_sh_dist,\n",
        "                right_hip_sh_dist,\n",
        "                left_wrist_sh_dist,\n",
        "                right_wrist_sh_dist,\n",
        "                left_ch_elbow_dist,\n",
        "                right_ch_elbow_dist,\n",
        "                left_wrist_hip_dist,\n",
        "                right_wrist_hip_dist,\n",
        "                left_elbow_wrist_dist,\n",
        "                right_elbow_wrist_dist,\n",
        "                left_vert_dist_sh_hip,\n",
        "                right_vert_dist_sh_hip,\n",
        "                left_horiz_dist_sh_hip,\n",
        "                right_horiz_dist_sh_hip,\n",
        "                left_wrist_height,\n",
        "                right_wrist_height,\n",
        "                ]\n",
        "            )\n",
        "\n",
        "      df = pd.DataFrame(features_list, columns=[\n",
        "                                                \"right_ankle_dorsiflexion_angle\",\n",
        "                                                \"left_ankle_dorsiflexion_angle\",\n",
        "                                                \"left_shoulder_knee_distance\",\n",
        "                                                \"right_shoulder_knee_distance\",\n",
        "                                                \"left_hip_ankle_distance\",\n",
        "                                                \"right_hip_ankle_distance\",\n",
        "                                                \"right_elbow_flexion_angle\",\n",
        "                                                \"left_elbow_flexion_angle\",\n",
        "                                                \"left_ankle_knee_angle\",\n",
        "                                                \"right_ankle_shoulder_distance\",\n",
        "                                                \"right_ankle_knee_angle\",\n",
        "                                                \"left_ankle_shoulder_distance\",\n",
        "                                                \"right_ankle_shoulder_angle\",\n",
        "                                                \"left_ankle_shoulder_angle\",\n",
        "                                                \"left_elbow_angle\",\n",
        "                                                \"right_elbow_angle\",\n",
        "                                                \"left_hip_angle\",\n",
        "                                                \"right_hip_angle\",\n",
        "                                                \"left_shoulder_flexion_extension_angle\",\n",
        "                                                \"right_shoulder_flexion_extension_angle\",\n",
        "                                                \"left_shoulder_abduction_adduction_angle\",\n",
        "                                                \"right_shoulder_abduction_adduction_angle\",\n",
        "                                                \"left_body_tilt_angle\",\n",
        "                                                \"right_body_tilt_angle\",\n",
        "                                                \"left_hip_sh_dist\",\n",
        "                                                \"right_hip_sh_dist\",\n",
        "                                                \"left_wrist_sh_dist\",\n",
        "                                                \"right_wrist_sh_dist\",\n",
        "                                                \"left_ch_elbow_dist\",\n",
        "                                                \"right_ch_elbow_dist\",\n",
        "                                                \"left_wrist_hip_dist\",\n",
        "                                                \"right_wrist_hip_dist\",\n",
        "                                                \"left_elbow_wrist_dist\",\n",
        "                                                \"right_elbow_wrist_dist\",\n",
        "                                                \"left_vert_dist_sh_hip\",\n",
        "                                                \"right_vert_dist_sh_hip\",\n",
        "                                                \"left_horiz_dist_sh_hip\",\n",
        "                                                \"right_horiz_dist_sh_hip\",\n",
        "                                                \"left_wrist_height\",\n",
        "                                                \"right_wrist_height\"\n",
        "                                                ]\n",
        "\n",
        "                                             )\n",
        "    if not os.path.exists(f'{extracted_feature_dir}/{split_base_name}.csv'):\n",
        "      print(f\"Writing Features of {split_base_name} to csv\")\n",
        "      df.to_csv(f'{extracted_feature_dir}/{split_base_name}.csv', index=False)\n",
        "    cap.release()\n",
        "\n"
      ],
      "metadata": {
        "id": "eNE6K1qoNRJw"
      },
      "execution_count": null,
      "outputs": []
    },
    {
      "cell_type": "code",
      "source": [
        "main_dir = \"Your Data Location\"\n",
        "directories = os.listdir(main_dir) # ['bench press', 'push-up', 'bicep curl', 'rest']\n",
        "\n",
        "for directory in directories:\n",
        "  print(directory)\n",
        "  get_features_from_video(main_dir , directory)\n"
      ],
      "metadata": {
        "id": "f1hEqynCNa15"
      },
      "execution_count": null,
      "outputs": []
    },
    {
      "cell_type": "markdown",
      "source": [
        "## Setting Up our Model\n",
        "1.   Importing Libraries\n",
        "2.   Importing Main Workout Folder i.e Bench Press , Push-up , Bicep Curl etc\n",
        "3.   Creating Sequences\n",
        "4.   \n",
        "\n"
      ],
      "metadata": {
        "id": "MCE32b1jNmD7"
      }
    },
    {
      "cell_type": "markdown",
      "source": [
        "## Libraries for Model Training"
      ],
      "metadata": {
        "id": "5pohvyNrPABQ"
      }
    },
    {
      "cell_type": "code",
      "source": [
        "import tensorflow as tf\n",
        "import pandas as pd\n",
        "import numpy as np\n",
        "import matplotlib.pyplot as plt\n",
        "import seaborn as sns\n",
        "\n",
        "from sklearn.model_selection import train_test_split\n",
        "from sklearn.preprocessing import StandardScaler\n",
        "from sklearn.metrics import accuracy_score, confusion_matrix, classification_report\n",
        "from sklearn.preprocessing import LabelEncoder\n",
        "from sklearn.preprocessing import MinMaxScaler\n",
        "import os\n"
      ],
      "metadata": {
        "id": "JFKXlsB2O9bU"
      },
      "execution_count": null,
      "outputs": []
    },
    {
      "cell_type": "markdown",
      "source": [
        "## Importing Workout Folders"
      ],
      "metadata": {
        "id": "KRT01hP0PD9L"
      }
    },
    {
      "cell_type": "code",
      "source": [
        "folder_directory = \"/content/drive/MyDrive/New Extracted Features\"\n",
        "# os.listdir(folder_directory)\n",
        "folder_names = os.listdir(folder_directory)\n",
        "folder_names\n",
        "\n",
        "labels = folder_names\n",
        "labels"
      ],
      "metadata": {
        "id": "dxJPiuVwPFZo"
      },
      "execution_count": null,
      "outputs": []
    },
    {
      "cell_type": "markdown",
      "source": [
        "## Creating Sequences"
      ],
      "metadata": {
        "id": "HRQ5qAgGPHpW"
      }
    },
    {
      "cell_type": "code",
      "source": [
        "SEQ_LENGTH = 40 ## Set a Sequences length of your choice\n",
        "LOOKBACK = 15   ## Look Back includes the last n frames to the next sequence\n",
        "\n",
        "def generate_sequences_with_lookback_csv(csv_path, seq_length, lookback, label):\n",
        "    df = pd.read_csv(csv_path)\n",
        "    features = df.values\n",
        "    print(len(features))\n",
        "\n",
        "    sequences = []\n",
        "    labels = []\n",
        "\n",
        "    for i in range(0, len(features), seq_length - lookback):\n",
        "      ## @TODO use a better way\n",
        "      if i+seq_length>len(features):\n",
        "        break\n",
        "      sequence = features[i:i+seq_length]\n",
        "      sequences.append(sequence)\n",
        "      labels.append(label)\n",
        "    return (sequences,labels)"
      ],
      "metadata": {
        "id": "DOXg5IsrPLQv"
      },
      "execution_count": null,
      "outputs": []
    },
    {
      "cell_type": "code",
      "source": [
        "X = [] ## Contains Sequences of All Features\n",
        "Y = []  ## Contains Seuquences of All Labels. each sequence has a single Label\n",
        "\n",
        "\n",
        "for label in labels:\n",
        "  print(f\"Processing {label}\")\n",
        "  folder_path = f\"{folder_directory}/{label}\"\n",
        "  folders = [f\"{folder_path}/{file}\" for file in os.listdir(folder_path)]\n",
        "  # print(folders)\n",
        "\n",
        "  for file in folders:\n",
        "    print(f\"Processing { file }\")\n",
        "    sequences,results = generate_sequences_with_lookback_csv(file , SEQ_LENGTH , LOOKBACK ,label)\n",
        "    X.extend(sequences)\n",
        "    Y.extend(results)\n",
        "\n"
      ],
      "metadata": {
        "id": "Z_3ZS9haPgZX"
      },
      "execution_count": null,
      "outputs": []
    },
    {
      "cell_type": "markdown",
      "source": [
        "###### Checking shapes x.shape = (n , m , x) , n = total sequences , m = sequence length , x = number of Features\n",
        "\n",
        "###### Checking shape y.shape = (n) , n = number of labels,\n",
        "###### **NOTE: both n of X and Y should be same ** **bold text**"
      ],
      "metadata": {
        "id": "FICunrunPyrs"
      }
    },
    {
      "cell_type": "code",
      "source": [
        "np.array(X).shape"
      ],
      "metadata": {
        "id": "87gNlU-rPu3_"
      },
      "execution_count": null,
      "outputs": []
    },
    {
      "cell_type": "code",
      "source": [
        "np.array(Y).shape"
      ],
      "metadata": {
        "id": "od1ddGoPPxd7"
      },
      "execution_count": null,
      "outputs": []
    },
    {
      "cell_type": "markdown",
      "source": [
        "###### Encoding Labels"
      ],
      "metadata": {
        "id": "9CKHZkulPunJ"
      }
    },
    {
      "cell_type": "code",
      "source": [
        "label_encoder = LabelEncoder()\n",
        "y_encoded = label_encoder.fit_transform(Y)\n",
        "y_encoded"
      ],
      "metadata": {
        "id": "fafKPyfWQWf2"
      },
      "execution_count": null,
      "outputs": []
    },
    {
      "cell_type": "code",
      "source": [
        "print(np.unique(y_encoded)  , np.unique(Y)) ## This will give the encoded number responding to its label"
      ],
      "metadata": {
        "id": "y1hyuEBUQZSt"
      },
      "execution_count": null,
      "outputs": []
    },
    {
      "cell_type": "markdown",
      "source": [
        "###### Converting Encoded Labels to Catgories of len(np.unique(Y))"
      ],
      "metadata": {
        "id": "d7OytDCWQiL8"
      }
    },
    {
      "cell_type": "code",
      "source": [
        "from tensorflow.keras.utils import to_categorical\n",
        "# One-hot encode Y_train\n",
        "label_categorical = to_categorical(y_encoded, num_classes= len(np.unique(Y)))\n",
        "label_categorical"
      ],
      "metadata": {
        "id": "R7b5vK86QdqI"
      },
      "execution_count": null,
      "outputs": []
    },
    {
      "cell_type": "code",
      "source": [
        "np.shape(label_categorical) ## This should have the same value as the original Y"
      ],
      "metadata": {
        "id": "NXkA568uQu3_"
      },
      "execution_count": null,
      "outputs": []
    },
    {
      "cell_type": "code",
      "source": [
        "classes =  label_encoder.classes_\n",
        "classes"
      ],
      "metadata": {
        "id": "SlmCjcJzQ1dk"
      },
      "execution_count": null,
      "outputs": []
    },
    {
      "cell_type": "markdown",
      "source": [
        "## Normalizing X\n"
      ],
      "metadata": {
        "id": "MDOCz9TyQ3Us"
      }
    },
    {
      "cell_type": "code",
      "source": [
        "X = np.array(X)\n",
        "scaler = MinMaxScaler()\n",
        "num_samples, sequence_length, num_features = X.shape\n",
        "\n",
        "X_reshaped = X.reshape(-1, num_features)\n",
        "\n",
        "# # Fit and transform\n",
        "X_normalized = scaler.fit_transform(X_reshaped)\n",
        "\n",
        "# # Reshape back to original 3D shape\n",
        "X_normalized = X_normalized.reshape(num_samples, sequence_length, num_features)\n",
        "\n",
        "print(X_normalized.shape)\n"
      ],
      "metadata": {
        "id": "adbMU9Y2Q4xT"
      },
      "execution_count": null,
      "outputs": []
    },
    {
      "cell_type": "markdown",
      "source": [
        "## Splitting into Train Test Split"
      ],
      "metadata": {
        "id": "862qpMNPRAYL"
      }
    },
    {
      "cell_type": "code",
      "source": [
        "X_train, X_test, Y_train, Y_test = train_test_split(X_normalized, label_categorical , test_size=0.2, random_state=42)"
      ],
      "metadata": {
        "id": "aiz_4c5BRCuB"
      },
      "execution_count": null,
      "outputs": []
    },
    {
      "cell_type": "code",
      "source": [
        "X_train.shape , Y_train.shape,  X_test.shape ,Y_test.shape"
      ],
      "metadata": {
        "id": "66ESwDZnRFya"
      },
      "execution_count": null,
      "outputs": []
    },
    {
      "cell_type": "markdown",
      "source": [
        "## Setting Up our Model\n",
        "#### Using Double LSTM architecture"
      ],
      "metadata": {
        "id": "15ZPfqdRRHV-"
      }
    },
    {
      "cell_type": "code",
      "source": [
        "from tensorflow.keras.models import Sequential\n",
        "from tensorflow.keras.layers import LSTM, Dense, Dropout, LayerNormalization\n",
        "\n",
        "model = Sequential()\n",
        "\n",
        "# First LSTM layer converted to Bidirectional\n",
        "model.add(LSTM(64, return_sequences=True, activation='relu', input_shape=(sequence_length, num_features), recurrent_dropout= 0.3))\n",
        "model.add(LayerNormalization(axis=1))\n",
        "\n",
        "# Second LSTM layer converted to Bidirectional\n",
        "model.add(LSTM(64, return_sequences = False, activation='relu' ,  recurrent_dropout= 0.3))\n",
        "model.add(LayerNormalization(axis=1))\n",
        "\n",
        "\n",
        "model.add(Dropout(0.2))\n",
        "model.add(Dense(64, activation='relu'))\n",
        "\n",
        "model.add(Dropout(0.2))\n",
        "model.add(Dense( len(np.unique(Y)) , activation='softmax'))\n",
        "\n",
        "model.compile(optimizer='adam',\n",
        "              loss='categorical_crossentropy',\n",
        "              metrics=['accuracy'])\n"
      ],
      "metadata": {
        "id": "93wsuBwxRI-N"
      },
      "execution_count": null,
      "outputs": []
    },
    {
      "cell_type": "markdown",
      "source": [
        "#### Using Checkpointing to save Model at regular intervals\n",
        "#### Using Early Stopping to prevent overfitting"
      ],
      "metadata": {
        "id": "sMbt3t1YRkcJ"
      }
    },
    {
      "cell_type": "code",
      "source": [
        "from tensorflow.keras.callbacks import EarlyStopping\n",
        "from tensorflow.keras.callbacks import ModelCheckpoint\n",
        "\n",
        "checkpoint_callback = ModelCheckpoint(\n",
        "    filepath= f\"/content/drive/MyDrive/New Models/Model-CNN-LSTM-seq-{SEQ_LENGTH}-LB-{LOOKBACK}.keras\",\n",
        "    # save_weights_only=True,  # Saves only the model's weights\n",
        "    monitor='val_loss',      # Monitor the validation loss\n",
        "    mode='min',              # Mode to select the best model (minimizing val_loss)\n",
        "    save_best_only=True,     # Save only the best model based on the monitored metric\n",
        "    verbose=1                # Print a message when saving the model\n",
        "  )\n",
        "\n",
        "early_stopping = EarlyStopping(monitor='val_loss', patience=10 , restore_best_weights=True)"
      ],
      "metadata": {
        "id": "3F9LGJGRRc8g"
      },
      "execution_count": null,
      "outputs": []
    },
    {
      "cell_type": "markdown",
      "source": [
        "#### Fitting Our Model"
      ],
      "metadata": {
        "id": "kxITtd_jRxtK"
      }
    },
    {
      "cell_type": "code",
      "source": [
        "model.fit(X_train, Y_train,\n",
        "          epochs=100, batch_size=32,\n",
        "          validation_data=(X_test, Y_test),\n",
        "          callbacks=[checkpoint_callback , early_stopping],\n",
        "          verbose=1)  # Set verbose=1 to see the training progress"
      ],
      "metadata": {
        "id": "avPlxrTERzya"
      },
      "execution_count": null,
      "outputs": []
    }
  ]
}